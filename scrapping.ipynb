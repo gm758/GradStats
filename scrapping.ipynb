{
 "metadata": {
  "name": "",
  "signature": "sha256:a3deedca245e4abed89c19cfe92aa0ccbf19bf338ce8b9a1a741f0e8bb094646"
 },
 "nbformat": 3,
 "nbformat_minor": 0,
 "worksheets": [
  {
   "cells": [
    {
     "cell_type": "markdown",
     "metadata": {},
     "source": [
      "This notebook is an attempt to extract information from the admissions results page of thegradcafe.com. The information is currently in an unfriendly form, and I'd like to see summary statistics based on program and school.\n",
      "\n",
      "There is no single list of all results. Users can view up the past month of data, or they can conduct a search and see all results related to that search, regardless of when they were submitted.\n",
      "\n",
      "Users submit the following information:\n",
      "\n",
      "Institution, Program (Season), Decision & Date, Status (American, International w/ or w/o US degree), Date Added, Notes\n",
      "\n",
      "I want to extract as much information as possible, and I see 4 potential appproaches:\n",
      "\n",
      "1. Extract every institution name for the last month, then search those institutions and extract all the resulting data from each each. This approach has the limitation that some institutions might have already released their decisions months ago, and we may miss them.\n",
      "\n",
      "2. Systematically search by subject of study. I would need to find a list of common subjects. Some programs might have slightly different names though (ex. Statistics vs Statistical Science), and those entries may be missed.\n",
      "\n",
      "3. Systematically search by univerity, using a list of universities from US News or another resource. Users might use abbreviations that may be difficult to capture in the search.\n",
      "\n",
      "4. Exploit a feature of the search function that allows users to use an asterix to fill in the remaineder of the search. For example, A\\* would return Architecture, Audiology, etc. This will create many duplicates, but would likely be the most comprehensive approach.\n",
      "\n",
      "I chose to use the fourth approach, in an attempt to extract as much information as possible. Duplicates could be an issue with any of these approaches, so that will need to be addressed regardless. Case does not appear to matter, which makes things a little easier\n"
     ]
    },
    {
     "cell_type": "code",
     "collapsed": false,
     "input": [
      "%matplotlib inline \n",
      "\n",
      "import string\n",
      "import requests\n",
      "from pattern import web\n",
      "from collections import defaultdict\n",
      "import re\n",
      "import sqlite3\n",
      "import pandas as pd\n",
      "import numpy as np\n",
      "from matplotlib import pyplot as plt\n",
      "import datetime\n",
      "import time"
     ],
     "language": "python",
     "metadata": {},
     "outputs": [],
     "prompt_number": 11
    },
    {
     "cell_type": "code",
     "collapsed": false,
     "input": [
      "#needs a lot of work\n",
      "conn = sqlite3.connect('graddata.db')\n",
      "c = conn.cursor()\n",
      "\n",
      "sql = '''CREATE TABLE IF NOT EXISTS data (institution text, subject text, degree text, term text, result text, gpa float, gre_v int,\n",
      "                gre_q int, gre_w float, status text, date datetime, notes text)'''\n",
      "c.execute(sql)\n",
      "\n",
      "conn.commit()\n",
      "\n"
     ],
     "language": "python",
     "metadata": {},
     "outputs": [],
     "prompt_number": 12
    },
    {
     "cell_type": "code",
     "collapsed": false,
     "input": [
      "def stip_punct(word):\n",
      "    new_word = \"\".join(l for l in word if l not in string.punctuation)\n",
      "    return new_word"
     ],
     "language": "python",
     "metadata": {},
     "outputs": [],
     "prompt_number": 13
    },
    {
     "cell_type": "markdown",
     "metadata": {},
     "source": [
      "In August 2011, the scoring system for the GRE changed. The old test's scores ranged from 200-800, while the new test ranges from 130-170. I use information found online to convert the old scores into the new."
     ]
    },
    {
     "cell_type": "code",
     "collapsed": false,
     "input": [
      "r = requests.get(\"http://gre.graduateshotline.com/gre_score_scale.html#.VTBe-a1Viko\").text\n",
      "dom = web.Element(r)\n",
      "tbl = dom.by_class(\"border1\")[0]('tr')\n",
      "conversions = defaultdict(list)\n",
      "for row in tbl[1:]:\n",
      "    old = int(row('td')[0].content)\n",
      "    new_verbal = int(str(row('td')[1].content).split(' (')[0])\n",
      "    new_quant = int(str(row('td')[2].content).split(' (')[0])\n",
      "    \n",
      "    conversions['old'].append(old)\n",
      "    conversions['new_verbal'].append(new_verbal)\n",
      "    conversions['new_quant'].append(new_quant)\n",
      "\n",
      "convert_df = pd.DataFrame(conversions)\n",
      "\n",
      "convert_df.head()"
     ],
     "language": "python",
     "metadata": {},
     "outputs": [
      {
       "html": [
        "<div style=\"max-height:1000px;max-width:1500px;overflow:auto;\">\n",
        "<table border=\"1\" class=\"dataframe\">\n",
        "  <thead>\n",
        "    <tr style=\"text-align: right;\">\n",
        "      <th></th>\n",
        "      <th>new_quant</th>\n",
        "      <th>new_verbal</th>\n",
        "      <th>old</th>\n",
        "    </tr>\n",
        "  </thead>\n",
        "  <tbody>\n",
        "    <tr>\n",
        "      <th>0</th>\n",
        "      <td> 166</td>\n",
        "      <td> 170</td>\n",
        "      <td> 800</td>\n",
        "    </tr>\n",
        "    <tr>\n",
        "      <th>1</th>\n",
        "      <td> 164</td>\n",
        "      <td> 170</td>\n",
        "      <td> 790</td>\n",
        "    </tr>\n",
        "    <tr>\n",
        "      <th>2</th>\n",
        "      <td> 163</td>\n",
        "      <td> 170</td>\n",
        "      <td> 780</td>\n",
        "    </tr>\n",
        "    <tr>\n",
        "      <th>3</th>\n",
        "      <td> 161</td>\n",
        "      <td> 170</td>\n",
        "      <td> 770</td>\n",
        "    </tr>\n",
        "    <tr>\n",
        "      <th>4</th>\n",
        "      <td> 160</td>\n",
        "      <td> 170</td>\n",
        "      <td> 760</td>\n",
        "    </tr>\n",
        "  </tbody>\n",
        "</table>\n",
        "</div>"
       ],
       "metadata": {},
       "output_type": "pyout",
       "prompt_number": 14,
       "text": [
        "   new_quant  new_verbal  old\n",
        "0        166         170  800\n",
        "1        164         170  790\n",
        "2        163         170  780\n",
        "3        161         170  770\n",
        "4        160         170  760"
       ]
      }
     ],
     "prompt_number": 14
    },
    {
     "cell_type": "code",
     "collapsed": false,
     "input": [
      "def convert_quant(old_score):\n",
      "    if 200 <= old_score <= 800:\n",
      "        return convert_df.new_quant[convert_df.old == old_score].iloc[0]\n",
      "    else:\n",
      "        return old_score\n",
      "\n",
      "def convert_verb(old_score):\n",
      "    if 200 <= old_score <= 800:\n",
      "        return convert_df.new_verbal[convert_df.old == old_score].iloc[0]\n",
      "    else:\n",
      "        return old_score"
     ],
     "language": "python",
     "metadata": {},
     "outputs": [],
     "prompt_number": 15
    },
    {
     "cell_type": "code",
     "collapsed": false,
     "input": [
      "#Having issues with disconnections mid-scrape. This hopefully solves it.\n",
      "def retry(url):\n",
      "    try:\n",
      "        html = requests.get(url).text\n",
      "        return html\n",
      "    except ConnectionError:\n",
      "        while True:\n",
      "            print \"Trying to reconnect\"\n",
      "            try:\n",
      "                html = requests.get(url).text\n",
      "                print \"Successfully reconnected\"\n",
      "                return html\n",
      "            except:\n",
      "                time.sleep(20)\n",
      "                continue\n",
      "        "
     ],
     "language": "python",
     "metadata": {},
     "outputs": [],
     "prompt_number": 16
    },
    {
     "cell_type": "code",
     "collapsed": false,
     "input": [
      "def page_scrape(letter, latest_date): \n",
      "    print letter\n",
      "    url = \"http://thegradcafe.com/survey/index.php?q=%s*&t=a&o=&pp=250\" % letter\n",
      "    data = defaultdict(list)\n",
      "    i = 1\n",
      "    while True:\n",
      "        print url\n",
      "        html = retry(url)\n",
      "        dom = web.Element(html)\n",
      "        tbl = dom('table')[0]\n",
      "        for row in tbl('tr')[1:]:   \n",
      "            dt = datetime.datetime.strptime(row('td')[4].content, \"%d %b %Y\").date()\n",
      "            #rows and pages are ordered by date, so we can stop looping once we encounter a date\n",
      "            #that occured before the latest_date in our database\n",
      "            if dt < latest_date:\n",
      "                return\n",
      "            \n",
      "            uni = stip_punct(row('td')[0].content)   \n",
      "            prg = row('td')[1].content.split(', ')\n",
      "            subject = stip_punct(prg[0])\n",
      "            degree = stip_punct(prg[-1].split('(')[0])\n",
      "            term = prg[-1].split(' ')[-1][1:-1]\n",
      "            try:\n",
      "                result = row('td')[2]('span')[0].content\n",
      "            except:\n",
      "                #expand upon the 'other' information in the future\n",
      "                result = 'Other'            \n",
      "            #when there is no accepted/rejected explicitly stated and there is stat information\n",
      "            #need to handle\n",
      "            if '<strong>' in str(result):\n",
      "                result = 'Other'\n",
      "\n",
      "            #this approach probably misses some information. Need to expand to all possibe cases\n",
      "            #Also, it's really ugly. See if there's a good way to clean it up\n",
      "            try:\n",
      "                stats = row('td')[2]('a')[0].content\n",
      "                try:\n",
      "                    gpa =  float(re.search(\"</strong>:\\s(\\d\\.\\d\\d)\", stats).group(1))\n",
      "                except:\n",
      "                    gpa = ''\n",
      "\n",
      "                #I think this try/except is missing some data. Reevaluate regex in the future\n",
      "                try:\n",
      "                    gre =  re.search(\"</strong>:\\s(\\d{3}/\\d{3}/\\d\\.\\d\\d)\", stats).group(1)\n",
      "                    gre_v = convert_verb(int(gre.split('/')[0]))\n",
      "                    gre_q = convert_quant(int(gre.split('/')[1]))\n",
      "                    gre_w = float(gre.split('/')[2])\n",
      "                except:\n",
      "                    gre_v = ''\n",
      "                    gre_q = ''\n",
      "                    gre_w = ''\n",
      "\n",
      "            except IndexError:\n",
      "                gpa = ''\n",
      "                gre_v = ''\n",
      "                gre_q = ''\n",
      "                gre_w = ''\n",
      "                \n",
      "\n",
      "            #add gre subject test in the future\n",
      "            \n",
      "            st = row('td')[3].content\n",
      "            nts = row('td')[5]('li')[1].content\n",
      "            \n",
      "            data['institution'].append(uni)\n",
      "            data['subject'].append(subject)\n",
      "            data['degree'].append(degree)\n",
      "            data['term'].append(term)\n",
      "            data['date'].append(dt)\n",
      "            data['result'].append(result)\n",
      "            data['status'].append(st)\n",
      "            data['notes'].append(nts)\n",
      "            data['gpa'].append(gpa)\n",
      "            data['gre_verbal'].append(gre_v)\n",
      "            data['gre_quant'].append(gre_q)\n",
      "            data['gre_writ'].append(gre_w)\n",
      "            #currently not storing notes in db due to error, will fix later\n",
      "            data_tuple = (uni, subject, degree, term, dt, \n",
      "                          result, st, gpa, gre_v, gre_q, \n",
      "                          gre_w)\n",
      "            \n",
      "            \n",
      "            sql = \"\"\"\n",
      "                     SELECT COUNT(*) \n",
      "                     FROM data \n",
      "                     WHERE\n",
      "                     institution = '%s' AND subject = '%s' AND \n",
      "                     degree = '%s' AND term = '%s' AND date = '%s' AND \n",
      "                     result = '%s' AND status = '%s' AND gpa = '%s' AND \n",
      "                     gre_v = '%s' AND gre_q = '%s' AND gre_w = '%s'\n",
      "                  \"\"\" % data_tuple\n",
      "            c.execute(sql)\n",
      "            if c.fetchone()[0] == 0:\n",
      "                sql = \"\"\"\n",
      "                         INSERT INTO data (institution, subject, degree, term, \n",
      "                         date, result, status, gpa, gre_v, gre_q, gre_w) VALUES\n",
      "                         ('%s', '%s', '%s', '%s', '%s', '%s', '%s', '%s', '%s', '%s', '%s')\n",
      "                      \"\"\" % data_tuple\n",
      "                c.execute(sql)\n",
      "\n",
      "        pages = dom.by_class('pagination')[0]('a')\n",
      "        #need some code for determining if we've reached the last apge\n",
      "        url = ''\n",
      "        for link in pages:\n",
      "            if int(str(link.href.split('p=')[-1])) == i + 1:\n",
      "                url = \"http://thegradcafe.com\" + str(link.href)\n",
      "                break\n",
      "                \n",
      "        if url == '':\n",
      "            break\n",
      "            \n",
      "        i+=1"
     ],
     "language": "python",
     "metadata": {},
     "outputs": [],
     "prompt_number": 17
    },
    {
     "cell_type": "code",
     "collapsed": false,
     "input": [
      "sql = \"SELECT MAX(date) FROM data\"\n",
      "c.execute(sql)\n",
      "latest_date = datetime.datetime.strptime(c.fetchone()[0], \"%Y-%m-%d\").date()\n",
      "\n",
      "\n",
      "\n",
      "alphabet = string.ascii_lowercase\n",
      "for letter in alphabet:\n",
      "    page_scrape(letter, latest_date)\n",
      "       \n",
      "conn.commit()\n",
      "conn.close()\n"
     ],
     "language": "python",
     "metadata": {},
     "outputs": [
      {
       "output_type": "stream",
       "stream": "stdout",
       "text": [
        "a\n",
        "http://thegradcafe.com/survey/index.php?q=a*&t=a&o=&pp=250\n",
        "b"
       ]
      },
      {
       "output_type": "stream",
       "stream": "stdout",
       "text": [
        "\n",
        "http://thegradcafe.com/survey/index.php?q=b*&t=a&o=&pp=250\n",
        "c"
       ]
      },
      {
       "output_type": "stream",
       "stream": "stdout",
       "text": [
        "\n",
        "http://thegradcafe.com/survey/index.php?q=c*&t=a&o=&pp=250\n",
        "d"
       ]
      },
      {
       "output_type": "stream",
       "stream": "stdout",
       "text": [
        "\n",
        "http://thegradcafe.com/survey/index.php?q=d*&t=a&o=&pp=250\n",
        "e"
       ]
      },
      {
       "output_type": "stream",
       "stream": "stdout",
       "text": [
        "\n",
        "http://thegradcafe.com/survey/index.php?q=e*&t=a&o=&pp=250\n",
        "f"
       ]
      },
      {
       "output_type": "stream",
       "stream": "stdout",
       "text": [
        "\n",
        "http://thegradcafe.com/survey/index.php?q=f*&t=a&o=&pp=250\n",
        "g"
       ]
      },
      {
       "output_type": "stream",
       "stream": "stdout",
       "text": [
        "\n",
        "http://thegradcafe.com/survey/index.php?q=g*&t=a&o=&pp=250\n",
        "h"
       ]
      },
      {
       "output_type": "stream",
       "stream": "stdout",
       "text": [
        "\n",
        "http://thegradcafe.com/survey/index.php?q=h*&t=a&o=&pp=250\n",
        "i"
       ]
      },
      {
       "output_type": "stream",
       "stream": "stdout",
       "text": [
        "\n",
        "http://thegradcafe.com/survey/index.php?q=i*&t=a&o=&pp=250\n",
        "j"
       ]
      },
      {
       "output_type": "stream",
       "stream": "stdout",
       "text": [
        "\n",
        "http://thegradcafe.com/survey/index.php?q=j*&t=a&o=&pp=250\n",
        "k"
       ]
      },
      {
       "output_type": "stream",
       "stream": "stdout",
       "text": [
        "\n",
        "http://thegradcafe.com/survey/index.php?q=k*&t=a&o=&pp=250\n",
        "l"
       ]
      },
      {
       "output_type": "stream",
       "stream": "stdout",
       "text": [
        "\n",
        "http://thegradcafe.com/survey/index.php?q=l*&t=a&o=&pp=250\n",
        "m"
       ]
      },
      {
       "output_type": "stream",
       "stream": "stdout",
       "text": [
        "\n",
        "http://thegradcafe.com/survey/index.php?q=m*&t=a&o=&pp=250\n",
        "n"
       ]
      },
      {
       "output_type": "stream",
       "stream": "stdout",
       "text": [
        "\n",
        "http://thegradcafe.com/survey/index.php?q=n*&t=a&o=&pp=250\n",
        "o"
       ]
      },
      {
       "output_type": "stream",
       "stream": "stdout",
       "text": [
        "\n",
        "http://thegradcafe.com/survey/index.php?q=o*&t=a&o=&pp=250\n",
        "p"
       ]
      },
      {
       "output_type": "stream",
       "stream": "stdout",
       "text": [
        "\n",
        "http://thegradcafe.com/survey/index.php?q=p*&t=a&o=&pp=250\n",
        "q"
       ]
      },
      {
       "output_type": "stream",
       "stream": "stdout",
       "text": [
        "\n",
        "http://thegradcafe.com/survey/index.php?q=q*&t=a&o=&pp=250\n",
        "r"
       ]
      },
      {
       "output_type": "stream",
       "stream": "stdout",
       "text": [
        "\n",
        "http://thegradcafe.com/survey/index.php?q=r*&t=a&o=&pp=250\n",
        "s"
       ]
      },
      {
       "output_type": "stream",
       "stream": "stdout",
       "text": [
        "\n",
        "http://thegradcafe.com/survey/index.php?q=s*&t=a&o=&pp=250\n",
        "t"
       ]
      },
      {
       "output_type": "stream",
       "stream": "stdout",
       "text": [
        "\n",
        "http://thegradcafe.com/survey/index.php?q=t*&t=a&o=&pp=250\n",
        "u"
       ]
      },
      {
       "output_type": "stream",
       "stream": "stdout",
       "text": [
        "\n",
        "http://thegradcafe.com/survey/index.php?q=u*&t=a&o=&pp=250\n",
        "v"
       ]
      },
      {
       "output_type": "stream",
       "stream": "stdout",
       "text": [
        "\n",
        "http://thegradcafe.com/survey/index.php?q=v*&t=a&o=&pp=250\n",
        "w"
       ]
      },
      {
       "output_type": "stream",
       "stream": "stdout",
       "text": [
        "\n",
        "http://thegradcafe.com/survey/index.php?q=w*&t=a&o=&pp=250\n",
        "x"
       ]
      },
      {
       "output_type": "stream",
       "stream": "stdout",
       "text": [
        "\n",
        "http://thegradcafe.com/survey/index.php?q=x*&t=a&o=&pp=250\n",
        "y"
       ]
      },
      {
       "output_type": "stream",
       "stream": "stdout",
       "text": [
        "\n",
        "http://thegradcafe.com/survey/index.php?q=y*&t=a&o=&pp=250\n",
        "z"
       ]
      },
      {
       "output_type": "stream",
       "stream": "stdout",
       "text": [
        "\n",
        "http://thegradcafe.com/survey/index.php?q=z*&t=a&o=&pp=250\n"
       ]
      },
      {
       "ename": "NameError",
       "evalue": "name 'data' is not defined",
       "output_type": "pyerr",
       "traceback": [
        "\u001b[0;31m---------------------------------------------------------------------------\u001b[0m\n\u001b[0;31mNameError\u001b[0m                                 Traceback (most recent call last)",
        "\u001b[0;32m<ipython-input-19-30fd4801f1d5>\u001b[0m in \u001b[0;36m<module>\u001b[0;34m()\u001b[0m\n\u001b[1;32m     14\u001b[0m \u001b[0mconn\u001b[0m\u001b[0;34m.\u001b[0m\u001b[0mclose\u001b[0m\u001b[0;34m(\u001b[0m\u001b[0;34m)\u001b[0m\u001b[0;34m\u001b[0m\u001b[0m\n\u001b[1;32m     15\u001b[0m \u001b[0;34m\u001b[0m\u001b[0m\n\u001b[0;32m---> 16\u001b[0;31m \u001b[0mdf\u001b[0m \u001b[0;34m=\u001b[0m \u001b[0mpd\u001b[0m\u001b[0;34m.\u001b[0m\u001b[0mDataFrame\u001b[0m\u001b[0;34m(\u001b[0m\u001b[0mdata\u001b[0m\u001b[0;34m)\u001b[0m\u001b[0;34m\u001b[0m\u001b[0m\n\u001b[0m\u001b[1;32m     17\u001b[0m \u001b[0;34m\u001b[0m\u001b[0m\n\u001b[1;32m     18\u001b[0m \u001b[0;34m\u001b[0m\u001b[0m\n",
        "\u001b[0;31mNameError\u001b[0m: name 'data' is not defined"
       ]
      }
     ],
     "prompt_number": 19
    },
    {
     "cell_type": "code",
     "collapsed": false,
     "input": [
      "#beautify these graphs in the future\n",
      "df.gre_quant.hist(bins = 25)"
     ],
     "language": "python",
     "metadata": {},
     "outputs": [
      {
       "metadata": {},
       "output_type": "pyout",
       "prompt_number": 66,
       "text": [
        "<matplotlib.axes._subplots.AxesSubplot at 0x10b8436d0>"
       ]
      },
      {
       "metadata": {},
       "output_type": "display_data",
       "png": "[encoded data removed]",
       "text": [
        "<matplotlib.figure.Figure at 0x10b843110>"
       ]
      }
     ],
     "prompt_number": 66
    },
    {
     "cell_type": "code",
     "collapsed": false,
     "input": [
      "df.gre_verbal.hist(bins = 25)"
     ],
     "language": "python",
     "metadata": {},
     "outputs": [
      {
       "metadata": {},
       "output_type": "pyout",
       "prompt_number": 67,
       "text": [
        "<matplotlib.axes._subplots.AxesSubplot at 0x10d827ad0>"
       ]
      },
      {
       "metadata": {},
       "output_type": "display_data",
       "png": "[encoded data removed]",
       "text": [
        "<matplotlib.figure.Figure at 0x10afdbe50>"
       ]
      }
     ],
     "prompt_number": 67
    },
    {
     "cell_type": "code",
     "collapsed": false,
     "input": [
      "df.gre_writ.hist()"
     ],
     "language": "python",
     "metadata": {},
     "outputs": [
      {
       "metadata": {},
       "output_type": "pyout",
       "prompt_number": 68,
       "text": [
        "<matplotlib.axes._subplots.AxesSubplot at 0x103940650>"
       ]
      },
      {
       "metadata": {},
       "output_type": "display_data",
       "png": "[encoded data removed]",
       "text": [
        "<matplotlib.figure.Figure at 0x10d827b90>"
       ]
      }
     ],
     "prompt_number": 68
    },
    {
     "cell_type": "code",
     "collapsed": false,
     "input": [
      "df.gpa.hist(bins = 25)"
     ],
     "language": "python",
     "metadata": {},
     "outputs": [
      {
       "metadata": {},
       "output_type": "pyout",
       "prompt_number": 69,
       "text": [
        "<matplotlib.axes._subplots.AxesSubplot at 0x10abb7910>"
       ]
      },
      {
       "metadata": {},
       "output_type": "display_data",
       "png": "[encoded data removed]",
       "text": [
        "<matplotlib.figure.Figure at 0x10aba07d0>"
       ]
      }
     ],
     "prompt_number": 69
    },
    {
     "cell_type": "code",
     "collapsed": false,
     "input": [
      "groups = df.groupby('result')"
     ],
     "language": "python",
     "metadata": {},
     "outputs": [],
     "prompt_number": 53
    },
    {
     "cell_type": "code",
     "collapsed": false,
     "input": [
      "groups.gpa.mean()"
     ],
     "language": "python",
     "metadata": {},
     "outputs": [
      {
       "metadata": {},
       "output_type": "pyout",
       "prompt_number": 59,
       "text": [
        "result\n",
        "Accepted    3.726262\n",
        "Other       3.716441\n",
        "Rejected    3.624608\n",
        "Name: gpa, dtype: float64"
       ]
      }
     ],
     "prompt_number": 59
    },
    {
     "cell_type": "code",
     "collapsed": false,
     "input": [
      "groups.gre_quant.mean()"
     ],
     "language": "python",
     "metadata": {},
     "outputs": [
      {
       "metadata": {},
       "output_type": "pyout",
       "prompt_number": 56,
       "text": [
        "result\n",
        "Accepted    161.434783\n",
        "Other       159.866667\n",
        "Rejected    161.190909\n",
        "Name: gre_quant, dtype: float64"
       ]
      }
     ],
     "prompt_number": 56
    },
    {
     "cell_type": "code",
     "collapsed": false,
     "input": [
      "groups.gre_verbal.mean()"
     ],
     "language": "python",
     "metadata": {},
     "outputs": [
      {
       "metadata": {},
       "output_type": "pyout",
       "prompt_number": 57,
       "text": [
        "result\n",
        "Accepted    161.313043\n",
        "Other       160.416667\n",
        "Rejected    159.200000\n",
        "Name: gre_verbal, dtype: float64"
       ]
      }
     ],
     "prompt_number": 57
    },
    {
     "cell_type": "code",
     "collapsed": false,
     "input": [
      "degree_groups = df.groupby(['result', 'degree'])\n",
      "degree_groups.gpa.mean()"
     ],
     "language": "python",
     "metadata": {},
     "outputs": [
      {
       "metadata": {},
       "output_type": "pyout",
       "prompt_number": 64,
       "text": [
        "result    degree  \n",
        "Accepted  EdD         3.700000\n",
        "          MFA         4.000000\n",
        "          Masters     3.734746\n",
        "          Other            NaN\n",
        "          PhD         3.710000\n",
        "Other     EdD              NaN\n",
        "          JD               NaN\n",
        "          Masters     3.790588\n",
        "          Other            NaN\n",
        "          PhD         3.686429\n",
        "Rejected  EdD              NaN\n",
        "          Masters     3.600000\n",
        "          Other       3.345000\n",
        "          PhD         3.645075\n",
        "Name: gpa, dtype: float64"
       ]
      }
     ],
     "prompt_number": 64
    },
    {
     "cell_type": "markdown",
     "metadata": {},
     "source": [
      "I can mess around with summary statistics all day, but this is a small dataset, and I need to get everything aggregated. The next step will be to download all the data and remove duplicates that arise due to the search criteria. The easiest way to do this will simply be to check whether everything in a row matches another row. There is a small chance of removing an entry that looks like a duplicate but is not. However, there will be far true positives than false ones, so this is still a good approach."
     ]
    }
   ],
   "metadata": {}
  }
 ]
}